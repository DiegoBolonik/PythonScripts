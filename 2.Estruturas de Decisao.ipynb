#Estruturas de Decisão

nota = 7
if nota >= 7:
	print("Aprovado")
	print("Parabéns!")
else:
	print("Reprovado")

#só mudar o valor da variável
nota = 5
if nota >= 7:
	print("Aprovado")
else:
	print("Reprovado")

#Testar com 4,5 e 7
nota = 7
if nota <= 4:
	print("Reprovado")
elif nota > 4 and nota <=6:
	print("Exame")
else:
	print("Aprovado")
