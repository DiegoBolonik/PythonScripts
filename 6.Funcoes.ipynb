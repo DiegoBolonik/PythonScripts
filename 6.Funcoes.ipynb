{
 "cells": [
  {
   "cell_type": "markdown",
   "metadata": {},
   "source": [
    "# Formação Cientista de Dados - Prof. Fernando Amaral\n",
    "Funções"
   ]
  },
  {
   "cell_type": "code",
   "execution_count": 1,
   "metadata": {},
   "outputs": [
    {
     "name": "stdout",
     "output_type": "stream",
     "text": [
      "esta é uma função\n"
     ]
    }
   ],
   "source": [
    "def imprime():\n",
    "    print(\"esta é uma função\")\n",
    "\n",
    "imprime()"
   ]
  },
  {
   "cell_type": "code",
   "execution_count": 2,
   "metadata": {},
   "outputs": [
    {
     "name": "stdout",
     "output_type": "stream",
     "text": [
      "Impressão deste texto\n"
     ]
    }
   ],
   "source": [
    "#com parametro\n",
    "def imprime(n):\n",
    "    print(n)\n",
    "\n",
    "imprime(\"Impressão deste texto\")"
   ]
  },
  {
   "cell_type": "code",
   "execution_count": 3,
   "metadata": {},
   "outputs": [
    {
     "name": "stdout",
     "output_type": "stream",
     "text": [
      "9\n"
     ]
    }
   ],
   "source": [
    "#com retorno\n",
    "def potencia(n):\n",
    "    return n * n\n",
    "\n",
    "x = potencia(3)\n",
    "print(x)"
   ]
  },
  {
   "cell_type": "code",
   "execution_count": null,
   "metadata": {},
   "outputs": [],
   "source": [
    "#com valor default\n",
    "def intervalo(inic=1,fim=10):\n",
    "    for n in range(inic, fim+1):\n",
    "        print(n)\n",
    "\n",
    "x = intervalo(1,10)\n",
    "y = intervalo()"
   ]
  },
  {
   "cell_type": "code",
   "execution_count": null,
   "metadata": {},
   "outputs": [],
   "source": []
  }
 ],
 "metadata": {
  "kernelspec": {
   "display_name": "Python 3",
   "language": "python",
   "name": "python3"
  },
  "language_info": {
   "codemirror_mode": {
    "name": "ipython",
    "version": 3
   },
   "file_extension": ".py",
   "mimetype": "text/x-python",
   "name": "python",
   "nbconvert_exporter": "python",
   "pygments_lexer": "ipython3",
   "version": "3.7.6"
  }
 },
 "nbformat": 4,
 "nbformat_minor": 4
}
