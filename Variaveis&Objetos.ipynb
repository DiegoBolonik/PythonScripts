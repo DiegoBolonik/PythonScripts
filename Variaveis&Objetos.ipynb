#Variáveis e Objetos
#Cria variável do tipo inteiro

x = 1
print(x)

#Cria variável do tipo float

y = 3.13
print(y)

#Cria variável do tipo string

m = "Python"
print(m)

#Cria variável do tipo lógica

w = True  
y = False

print(y)

1
3.13
Python
False

#calculadora

x = 10

y = 20

z = 100

w = (x + y) * z / 100

print(w)

30.0

#exibir texto no console

print("Este texto será impresso no console")

print(x)

print("Texto e duas variáveis: ", x ,", ", z)

Este texto será impresso no console
10
Texto e duas variáveis:  10 ,  100

#verificar tipo

print(type(x))

print(type(m))

<class 'int'>
<class 'str'>

#entrada de dados

print("Informe o valor: ")

i = input()

#mostra tipo string

print(type(i))

Informe o valor: 
4
<class 'str'>

#entrada de valor com msg separada e junto

print("Informe o valor: ")

i = input()

# ou

i = input("Informe o valor: ")

#conversão de valores

#para inteiro

var = input("Informe o valor: ")

print(type(var))

var = int(var)

print(type(var))

#para float

var = input("Informe o valor: ")

print(type(var))

var = float(var)

print(type(var))

# Este texto é um comentário

X = 10  # a partir daqui é um comentário
